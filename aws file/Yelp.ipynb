{
 "cells": [
  {
   "cell_type": "code",
   "execution_count": 1,
   "metadata": {},
   "outputs": [
    {
     "name": "stdout",
     "output_type": "stream",
     "text": [
      "num_restaurants: {} 5186\n",
      "chinese food: 999\n",
      "japanese food: 671\n",
      "korean food: 589\n",
      "italian food: 889\n",
      "mexican food: 837\n",
      "american food: 509\n",
      "indian food: 692\n"
     ]
    }
   ],
   "source": [
    "import requests\n",
    "import json\n",
    "\n",
    "API_KEY= 'Your own Yelp API key'\n",
    "\n",
    "url = \"https://api.yelp.com/v3/businesses/search\"\n",
    "\n",
    "headers = {'Authorization': 'Bearer %s' % API_KEY}\n",
    "\n",
    "terms = ['chinese food', 'japanese food', 'korean food', 'italian food', 'mexican food','american food','indian food']\n",
    "location = 'Manhattan, NY'\n",
    "limit = 50\n",
    "data = dict.fromkeys(terms)\n",
    "ids = []\n",
    "\n",
    "for term in terms:\n",
    "    data[term]=[]\n",
    "    \n",
    "    for offset in range(0, 1000, limit):\n",
    "        url_params = {\n",
    "            'term': term.replace(' ', '+'),\n",
    "            'location': location.replace(' ', '+'),\n",
    "            'limit': limit,\n",
    "            'offset': offset\n",
    "        }\n",
    "    \n",
    "        response = requests.request(\"GET\", url, headers=headers, params=url_params)\n",
    "\n",
    "        if response.status_code == 200:\n",
    "            querys = response.json()['businesses']\n",
    "            for query in querys:\n",
    "                if query not in ids:\n",
    "                    ids.append(query)\n",
    "                    data[term].append(query)\n",
    "                    print('num_restaurants: {}'.format(len(ids)), end=\"\\r\")\n",
    "        elif response.status_code == 400:\n",
    "            continue\n",
    "            \n",
    "print('num_restaurants: {}',format(len(ids)))\n",
    "for term in terms:\n",
    "    print('{}: {}'.format(term,len(data[term])))"
   ]
  },
  {
   "cell_type": "code",
   "execution_count": 2,
   "metadata": {},
   "outputs": [
    {
     "data": {
      "text/plain": [
       "{'id': 'ogCC-lJJYnwXDvKGmKZ6Sw',\n",
       " 'alias': 'woorijip-new-york-2',\n",
       " 'name': 'Woorijip',\n",
       " 'image_url': 'https://s3-media4.fl.yelpcdn.com/bphoto/NZcGFutBjf1frDkslh6urw/o.jpg',\n",
       " 'is_closed': False,\n",
       " 'url': 'https://www.yelp.com/biz/woorijip-new-york-2?adjust_creative=LZLTsquQ2fcAgttiVIjIAQ&utm_campaign=yelp_api_v3&utm_medium=api_v3_business_search&utm_source=LZLTsquQ2fcAgttiVIjIAQ',\n",
       " 'review_count': 2645,\n",
       " 'categories': [{'alias': 'korean', 'title': 'Korean'}],\n",
       " 'rating': 4.0,\n",
       " 'coordinates': {'latitude': 40.74747, 'longitude': -73.98648},\n",
       " 'transactions': ['delivery', 'pickup'],\n",
       " 'price': '$',\n",
       " 'location': {'address1': '12 W 32nd St',\n",
       "  'address2': '',\n",
       "  'address3': '',\n",
       "  'city': 'New York',\n",
       "  'zip_code': '10001',\n",
       "  'country': 'US',\n",
       "  'state': 'NY',\n",
       "  'display_address': ['12 W 32nd St', 'New York, NY 10001']},\n",
       " 'phone': '+12122441115',\n",
       " 'display_phone': '(212) 244-1115',\n",
       " 'distance': 1578.239664148041}"
      ]
     },
     "execution_count": 2,
     "metadata": {},
     "output_type": "execute_result"
    }
   ],
   "source": [
    "data['chinese food'][0]"
   ]
  },
  {
   "cell_type": "code",
   "execution_count": 3,
   "metadata": {},
   "outputs": [],
   "source": [
    "import requests\n",
    "import json\n",
    "import boto3\n",
    "from decimal import Decimal"
   ]
  },
  {
   "cell_type": "code",
   "execution_count": 7,
   "metadata": {},
   "outputs": [],
   "source": [
    "modify_data = {}\n",
    "for term in terms:\n",
    "    modify_data[term.split(' ')[0]] = []\n",
    "    for value in data[term]:\n",
    "        tmp = {}\n",
    "        tmp['id'] = value['id']\n",
    "        tmp['name'] = value['name']\n",
    "        tmp['rating'] = Decimal(str(value['rating']))\n",
    "        tmp['latitude'] = Decimal(str(value['coordinates']['latitude']))\n",
    "        tmp['longitude'] = Decimal(str(value['coordinates']['longitude']))\n",
    "        tmp['zipcode'] = value['location']['zip_code']\n",
    "        tmp['address'] = \"\"\n",
    "        for ad in value['location']['display_address']:\n",
    "            tmp['address'] += ad + \" \"\n",
    "        tmp['reviews'] = Decimal(str(value['review_count']))\n",
    "        tmp['phone'] = value['display_phone']\n",
    "        modify_data[term.split(' ')[0]].append(tmp)"
   ]
  },
  {
   "cell_type": "code",
   "execution_count": 9,
   "metadata": {},
   "outputs": [
    {
     "data": {
      "text/plain": [
       "7"
      ]
     },
     "execution_count": 9,
     "metadata": {},
     "output_type": "execute_result"
    }
   ],
   "source": [
    "len(modify_data)"
   ]
  },
  {
   "cell_type": "code",
   "execution_count": 10,
   "metadata": {},
   "outputs": [
    {
     "name": "stdout",
     "output_type": "stream",
     "text": [
      "Table Status:  ACTIVE\n"
     ]
    }
   ],
   "source": [
    "dynamodb = boto3.resource('dynamodb')\n",
    "table = dynamodb.Table('yelp-restaurants')\n",
    "print(\"Table Status: \", table.table_status)\n",
    "for key in modify_data.keys():\n",
    "    for value in modify_data[key]:\n",
    "        response = table.put_item(Item=value)"
   ]
  },
  {
   "cell_type": "code",
   "execution_count": 11,
   "metadata": {},
   "outputs": [],
   "source": [
    "from elasticsearch import Elasticsearch, RequestsHttpConnection\n",
    "from requests_aws4auth import AWS4Auth\n",
    "import boto3\n",
    "\n",
    "host = 'Your own ElasticSearch host' # For example, my-test-domain.us-east-1.es.amazonaws.com\n",
    "region = 'us-east-1' # e.g. us-west-1\n",
    "\n",
    "service = 'es'\n",
    "credentials = boto3.Session().get_credentials()\n",
    "awsauth = AWS4Auth(credentials.access_key, credentials.secret_key, region, service, session_token=credentials.token)\n",
    "\n",
    "es = Elasticsearch(\n",
    "    hosts = [{'host': host, 'port': 443}],\n",
    "    http_auth = awsauth,\n",
    "    use_ssl = True,\n",
    "    verify_certs = True,\n",
    "    connection_class = RequestsHttpConnection\n",
    ")"
   ]
  },
  {
   "cell_type": "code",
   "execution_count": 13,
   "metadata": {},
   "outputs": [],
   "source": [
    "es_data = []\n",
    "for key in modify_data.keys():\n",
    "    for value in modify_data[key]:\n",
    "        tmp = {}\n",
    "        tmp['id'] = value['id']\n",
    "        tmp['cuisine'] = key\n",
    "        es_data.append(tmp)"
   ]
  },
  {
   "cell_type": "code",
   "execution_count": 14,
   "metadata": {},
   "outputs": [
    {
     "data": {
      "text/plain": [
       "{'id': 'ogCC-lJJYnwXDvKGmKZ6Sw', 'cuisine': 'chinese'}"
      ]
     },
     "execution_count": 14,
     "metadata": {},
     "output_type": "execute_result"
    }
   ],
   "source": [
    "es_data[0]"
   ]
  },
  {
   "cell_type": "code",
   "execution_count": 15,
   "metadata": {},
   "outputs": [],
   "source": [
    "for document in es_data:\n",
    "    es.index(index=\"restaurants\", doc_type=\"Restaurant\",body=document)"
   ]
  },
  {
   "cell_type": "code",
   "execution_count": null,
   "metadata": {},
   "outputs": [],
   "source": []
  }
 ],
 "metadata": {
  "kernelspec": {
   "display_name": "Python 3",
   "language": "python",
   "name": "python3"
  },
  "language_info": {
   "codemirror_mode": {
    "name": "ipython",
    "version": 3
   },
   "file_extension": ".py",
   "mimetype": "text/x-python",
   "name": "python",
   "nbconvert_exporter": "python",
   "pygments_lexer": "ipython3",
   "version": "3.7.6"
  }
 },
 "nbformat": 4,
 "nbformat_minor": 4
}
